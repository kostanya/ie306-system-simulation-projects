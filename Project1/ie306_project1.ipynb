{
 "cells": [
  {
   "cell_type": "markdown",
   "id": "7ad7648d",
   "metadata": {},
   "source": [
    "# IE 306  SYSTEM SIMULATION\n",
    "## FURKAN KESKIN - 2018400150\n",
    "## SINEM KOCOGLU - 2020400339"
   ]
  },
  {
   "cell_type": "code",
   "execution_count": 83,
   "id": "fcc0efa9",
   "metadata": {},
   "outputs": [],
   "source": [
    "import numpy as np\n",
    "from queue import Queue, PriorityQueue\n",
    "\n",
    "SEED = 2018400150 + 2020400339\n",
    "\n",
    "nurses = 4  # S\n",
    "beds = 6    # K\n",
    "p_1 = 0.25\n",
    "lambd = 1\n",
    "mu_T = 0.3125\n",
    "mu_s = 0.16\n",
    "mu_cb = 0.1666666667"
   ]
  },
  {
   "cell_type": "code",
   "execution_count": 65,
   "id": "a5129b1d",
   "metadata": {},
   "outputs": [],
   "source": [
    "def Generate_Interarrival():\n",
    "    return np.random.exponential(1/lambd, 50)\n",
    "\n",
    "def Generate_Nurse_Service_Time():\n",
    "    return np.random.exponential(1/mu_T, 50)\n",
    "\n",
    "def Generate_Hospital_Healing_Time():\n",
    "    return np.random.exponential(1/mu_cb, 50)\n",
    "\n",
    "def Generate_Home_Healing_Time(condition):\n",
    "    if condition == 's':\n",
    "        return np.random.exponential(1/mu_s, 50)\n",
    "    elif condition == 'c':\n",
    "        alfa = np.random.uniform(1.25, 1.75)\n",
    "        return np.random.exponential(alfa/mu_cb, 50)\n",
    "    \n",
    "\n",
    "def Arrival():\n",
    "    "
   ]
  },
  {
   "cell_type": "code",
   "execution_count": 84,
   "id": "ad1f55ef",
   "metadata": {},
   "outputs": [
    {
     "name": "stdout",
     "output_type": "stream",
     "text": [
      "[2.41070487e-01 6.47407769e-01 4.50411894e+00 1.07434257e+00\n",
      " 2.53375056e+00 3.19182038e-01 1.10184572e+00 5.85289474e-01\n",
      " 2.28080274e-01 8.26462025e-02 7.52756332e-01 3.82814961e-01\n",
      " 8.08808754e-01 6.04292502e-02 1.84175342e+00 1.53742158e+00\n",
      " 3.46427665e-01 1.53435066e-02 2.19875851e-01 4.21094336e+00\n",
      " 1.47260307e+00 3.26912281e-01 7.63602801e-02 6.63089981e-01\n",
      " 8.45308865e-02 7.50748687e-01 9.69871693e-02 1.84875141e-01\n",
      " 2.58576118e+00 8.51753397e-01 6.79433616e-01 7.58412151e-01\n",
      " 2.45503843e-03 3.42977880e+00 1.72511183e+00 2.11595757e-01\n",
      " 5.41296407e-01 1.41057061e+00 6.48464237e-01 1.34652378e+00\n",
      " 2.32358741e-01 7.08265163e-01 1.40769545e+00 3.70437850e+00\n",
      " 1.54393276e-01 3.57141439e-01 7.35832352e-02 4.76161819e-01\n",
      " 1.48732732e+00 5.73864356e-02]\n",
      "[ 0.24107049  0.88847826  5.3925972   6.46693977  9.00069033  9.31987237\n",
      " 10.42171809 11.00700757 11.23508784 11.31773404 12.07049038 12.45330534\n",
      " 13.26211409 13.32254334 15.16429676 16.70171834 17.04814601 17.06348951\n",
      " 17.28336536 21.49430873 22.9669118  23.29382408 23.37018436 24.03327434\n",
      " 24.11780522 24.86855391 24.96554108 25.15041622 27.73617741 28.5879308\n",
      " 29.26736442 30.02577657 30.02823161 33.45801041 35.18312224 35.394718\n",
      " 35.9360144  37.34658501 37.99504925 39.34157303 39.57393178 40.28219694\n",
      " 41.68989239 45.39427089 45.54866417 45.90580561 45.97938884 46.45555066\n",
      " 47.94287798 48.00026441]\n"
     ]
    }
   ],
   "source": [
    "np.random.seed(SEED)\n",
    "\n",
    "interarrivals = Generate_Interarrival()\n",
    "nurse_service_times = Generate_Nurse_Service_Time()\n",
    "hospital_healing_times = Generate_Hospital_Healing_Time()\n",
    "home_healing_times_stable = Generate_Home_Healing_Time('s')\n",
    "home_healing_times_critical = Generate_Home_Healing_Time('c')\n",
    "arrivals = interarrivals.cumsum()\n",
    "\n",
    "print(interarrivals)\n",
    "print(arrivals)"
   ]
  },
  {
   "cell_type": "code",
   "execution_count": null,
   "id": "710dc159",
   "metadata": {},
   "outputs": [],
   "source": [
    "FEL = PriorityQueue() # Future Event List  \n",
    "WQ = Queue()          # Waiting Queue for Nurse Service\n",
    "busy_nurses = 0       # System starts with a patient with ID = 1 in simulation time = 0\n",
    "occupied_beds = 0\n",
    "last_departed_id = 0\n",
    "simulation_time = 0\n",
    "\n",
    "def Arrival(pid):\n",
    "    if pid == 0:\n",
    "        busy_nurses += 1\n",
    "        FEL.push(arrivals[pid])\n",
    "        FEL.push(simulation_time + nurse_service_times[pid])\n",
    "    else:     \n",
    "        # there is an available nurse\n",
    "        if busy_nurses < nurses:\n",
    "            \n",
    "\n",
    "            busy_nurses += 1\n",
    "    "
   ]
  }
 ],
 "metadata": {
  "kernelspec": {
   "display_name": "Python 3 (ipykernel)",
   "language": "python",
   "name": "python3"
  },
  "language_info": {
   "codemirror_mode": {
    "name": "ipython",
    "version": 3
   },
   "file_extension": ".py",
   "mimetype": "text/x-python",
   "name": "python",
   "nbconvert_exporter": "python",
   "pygments_lexer": "ipython3",
   "version": "3.10.10"
  }
 },
 "nbformat": 4,
 "nbformat_minor": 5
}
